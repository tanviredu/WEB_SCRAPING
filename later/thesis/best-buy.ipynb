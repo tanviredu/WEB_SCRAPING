{
 "cells": [
  {
   "cell_type": "code",
   "execution_count": 1,
   "metadata": {},
   "outputs": [
    {
     "name": "stdout",
     "output_type": "stream",
     "text": [
      "Requirement already satisfied: bs4 in /root/anaconda3/lib/python3.6/site-packages (0.0.1)\n",
      "Requirement already satisfied: beautifulsoup4 in /root/anaconda3/lib/python3.6/site-packages (from bs4) (4.8.1)\n",
      "Requirement already satisfied: soupsieve>=1.2 in /root/anaconda3/lib/python3.6/site-packages (from beautifulsoup4->bs4) (1.9.5)\n"
     ]
    }
   ],
   "source": [
    "!pip install bs4"
   ]
  },
  {
   "cell_type": "code",
   "execution_count": 51,
   "metadata": {},
   "outputs": [],
   "source": [
    "## importing the parsing module\n",
    "from bs4 import BeautifulSoup\n",
    "import requests\n",
    "from difflib import get_close_matches"
   ]
  },
  {
   "cell_type": "code",
   "execution_count": 53,
   "metadata": {},
   "outputs": [
    {
     "name": "stdout",
     "output_type": "stream",
     "text": [
      "mobile\n"
     ]
    }
   ],
   "source": [
    "user_agent = 'Mozilla/5.0 (Windows NT 10.0; Win64; x64) AppleWebKit/537.36 (KHTML, like Gecko) Chrome/42.0.2311.135 Safari/537.36 Edge/12.246'\n",
    "headers = {'User-Agent': user_agent}\n",
    "key =input()\n",
    "url='https://www.walmart.com/search/?query='+str(key)"
   ]
  },
  {
   "cell_type": "code",
   "execution_count": 54,
   "metadata": {},
   "outputs": [],
   "source": [
    "r = requests.get(url)"
   ]
  },
  {
   "cell_type": "code",
   "execution_count": 55,
   "metadata": {},
   "outputs": [],
   "source": [
    "#r.text"
   ]
  },
  {
   "cell_type": "code",
   "execution_count": 58,
   "metadata": {},
   "outputs": [],
   "source": [
    "soup = BeautifulSoup(r.content, 'lxml')"
   ]
  },
  {
   "cell_type": "code",
   "execution_count": 59,
   "metadata": {},
   "outputs": [],
   "source": [
    "ans= soup.findAll('ul', attrs={'class':'search-result-gridview-items four-items'})"
   ]
  },
  {
   "cell_type": "code",
   "execution_count": 60,
   "metadata": {},
   "outputs": [],
   "source": [
    "##ans"
   ]
  },
  {
   "cell_type": "code",
   "execution_count": 61,
   "metadata": {},
   "outputs": [],
   "source": [
    "name=[]\n",
    "for node in soup.findAll('a', attrs={'class':'product-title-link line-clamp line-clamp-2'}):\n",
    "    name.append(node.find('span').text.strip())\n",
    "    \n"
   ]
  },
  {
   "cell_type": "code",
   "execution_count": 62,
   "metadata": {},
   "outputs": [
    {
     "name": "stdout",
     "output_type": "stream",
     "text": [
      "---\n",
      "---\n"
     ]
    }
   ],
   "source": [
    "for node in soup.findAll('span', attrs={'class':'price price-main'}):\n",
    "    #print (node.find('span',attrs={'class':'price-characteristic'}).text)\n",
    "    print (\"---\")"
   ]
  },
  {
   "cell_type": "code",
   "execution_count": 48,
   "metadata": {},
   "outputs": [],
   "source": [
    "price=[]\n",
    "for item in soup.findAll('a', attrs={'class':'product-title-link line-clamp line-clamp-2'}):\n",
    "    price.append(node.span.text)"
   ]
  },
  {
   "cell_type": "code",
   "execution_count": 49,
   "metadata": {},
   "outputs": [],
   "source": [
    "result_dict={}\n",
    "for item in soup.findAll('a', attrs={'class':'product-title-link line-clamp line-clamp-2'}):\n",
    "    a = item.find('span').text.strip()\n",
    "    b = node.span.text"
   ]
  },
  {
   "cell_type": "code",
   "execution_count": 50,
   "metadata": {},
   "outputs": [
    {
     "data": {
      "text/plain": [
       "['$49.96 per month',\n",
       " '$49.96 per month',\n",
       " '$49.96 per month',\n",
       " '$49.96 per month',\n",
       " '$49.96 per month',\n",
       " '$49.96 per month',\n",
       " '$49.96 per month',\n",
       " '$49.96 per month',\n",
       " '$49.96 per month',\n",
       " '$49.96 per month']"
      ]
     },
     "execution_count": 50,
     "metadata": {},
     "output_type": "execute_result"
    }
   ],
   "source": [
    "price"
   ]
  },
  {
   "cell_type": "code",
   "execution_count": 36,
   "metadata": {},
   "outputs": [],
   "source": [
    "#b"
   ]
  },
  {
   "cell_type": "code",
   "execution_count": 27,
   "metadata": {},
   "outputs": [],
   "source": [
    "#ans1 = [node for node in soup.findAll('a', attrs={'class':'product-title-link line-clamp line-clamp-2'})]"
   ]
  },
  {
   "cell_type": "code",
   "execution_count": 28,
   "metadata": {},
   "outputs": [
    {
     "data": {
      "text/plain": [
       "['Apple iPhone 11 Pro Max, Upgrade Only (AT&T and Veri  ...',\n",
       " 'Apple iPhone 11, Upgrade Only (AT&T and Verizon)',\n",
       " 'Apple iPhone 11 Pro, Upgrade Only (AT&T and Verizon)',\n",
       " 'Straight Talk Apple iPhone 6s Prepaid Smartphone wit  ...',\n",
       " 'Straight Talk Prepaid Apple iPhone 6s Plus 32GB, Spa  ...',\n",
       " 'Straight Talk Apple iPhone 11 Pro Prepaid with 64G,   ...',\n",
       " 'Straight Talk Apple iPhone 11 Pro Max Prepaid with 6  ...',\n",
       " 'Apple iPhone XR, Upgrade Only (AT&T and Verizon)',\n",
       " 'Apple iPhone XS Max, Upgrade Only (AT&T and Verizon)',\n",
       " 'Apple iPhone XS, Upgrade Only (AT&T and Verizon)']"
      ]
     },
     "execution_count": 28,
     "metadata": {},
     "output_type": "execute_result"
    }
   ],
   "source": [
    "name"
   ]
  },
  {
   "cell_type": "code",
   "execution_count": 29,
   "metadata": {},
   "outputs": [
    {
     "data": {
      "text/plain": [
       "['Apple iPhone XS, Upgrade Only (AT&T and Verizon)',\n",
       " 'Apple iPhone XS, Upgrade Only (AT&T and Verizon)',\n",
       " 'Apple iPhone XS, Upgrade Only (AT&T and Verizon)',\n",
       " 'Apple iPhone XS, Upgrade Only (AT&T and Verizon)',\n",
       " 'Apple iPhone XS, Upgrade Only (AT&T and Verizon)',\n",
       " 'Apple iPhone XS, Upgrade Only (AT&T and Verizon)',\n",
       " 'Apple iPhone XS, Upgrade Only (AT&T and Verizon)',\n",
       " 'Apple iPhone XS, Upgrade Only (AT&T and Verizon)',\n",
       " 'Apple iPhone XS, Upgrade Only (AT&T and Verizon)',\n",
       " 'Apple iPhone XS, Upgrade Only (AT&T and Verizon)']"
      ]
     },
     "execution_count": 29,
     "metadata": {},
     "output_type": "execute_result"
    }
   ],
   "source": [
    "price"
   ]
  },
  {
   "cell_type": "code",
   "execution_count": 30,
   "metadata": {},
   "outputs": [],
   "source": [
    "d={}\n",
    "for x,y in zip(name,price):\n",
    "    d.update({x:y})\n",
    "    "
   ]
  },
  {
   "cell_type": "code",
   "execution_count": null,
   "metadata": {},
   "outputs": [],
   "source": [
    "#d"
   ]
  },
  {
   "cell_type": "code",
   "execution_count": null,
   "metadata": {},
   "outputs": [],
   "source": [
    "#price=[]\n",
    "#for item in soup.findAll('a', attrs={'class':'product-title-link line-clamp line-clamp-2'}):\n",
    "#    price.append(node.span.text)"
   ]
  },
  {
   "cell_type": "code",
   "execution_count": null,
   "metadata": {},
   "outputs": [],
   "source": [
    "#price"
   ]
  },
  {
   "cell_type": "code",
   "execution_count": null,
   "metadata": {},
   "outputs": [],
   "source": []
  }
 ],
 "metadata": {
  "kernelspec": {
   "display_name": "Python 3",
   "language": "python",
   "name": "python3"
  },
  "language_info": {
   "codemirror_mode": {
    "name": "ipython",
    "version": 3
   },
   "file_extension": ".py",
   "mimetype": "text/x-python",
   "name": "python",
   "nbconvert_exporter": "python",
   "pygments_lexer": "ipython3",
   "version": "3.6.9"
  }
 },
 "nbformat": 4,
 "nbformat_minor": 2
}
