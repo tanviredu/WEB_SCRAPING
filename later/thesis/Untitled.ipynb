{
 "cells": [
  {
   "cell_type": "code",
   "execution_count": 66,
   "metadata": {},
   "outputs": [
    {
     "name": "stdout",
     "output_type": "stream",
     "text": [
      "ENTER KEY iphone\n"
     ]
    }
   ],
   "source": [
    "key = input(\"ENTER KEY \")\n",
    "url_amzn ='https://www.amazon.in/s?k='+str(key) \n",
    "headers = {\n",
    "            'User-Agent': 'Mozilla/5.0 (Macintosh; Intel Mac OS X 10_10_1) AppleWebKit/537.36 (KHTML, like Gecko) Chrome/39.0.2171.95 Safari/537.36'}\n",
    "\n"
   ]
  },
  {
   "cell_type": "code",
   "execution_count": 68,
   "metadata": {},
   "outputs": [
    {
     "data": {
      "text/plain": [
       "'https://www.amazon.in/s?k=iphone'"
      ]
     },
     "execution_count": 68,
     "metadata": {},
     "output_type": "execute_result"
    }
   ],
   "source": [
    "url_amzn"
   ]
  },
  {
   "cell_type": "code",
   "execution_count": 69,
   "metadata": {},
   "outputs": [],
   "source": [
    "## getting title of all the products\n",
    "title_array = []"
   ]
  },
  {
   "cell_type": "code",
   "execution_count": 70,
   "metadata": {},
   "outputs": [],
   "source": [
    "from bs4 import BeautifulSoup\n",
    "import requests\n",
    "from difflib import get_close_matches"
   ]
  },
  {
   "cell_type": "code",
   "execution_count": 79,
   "metadata": {},
   "outputs": [],
   "source": [
    "## getting the source code\n",
    "source_code = requests.get(url_amzn,headers=headers)"
   ]
  },
  {
   "cell_type": "code",
   "execution_count": 80,
   "metadata": {},
   "outputs": [],
   "source": [
    "plain_text = source_code.text"
   ]
  },
  {
   "cell_type": "code",
   "execution_count": 81,
   "metadata": {},
   "outputs": [],
   "source": [
    "#<span class=\"a-size-medium a-color-base a-text-normal\">"
   ]
  },
  {
   "cell_type": "code",
   "execution_count": 82,
   "metadata": {},
   "outputs": [
    {
     "data": {
      "text/plain": [
       "'<!DOCTYPE html>\\n<!--[if lt IE 7]> <html lang=\"en-us\" class=\"a-no-js a-lt-ie9 a-lt-ie8 a-lt-ie7\"> <![endif]-->\\n<!--[if IE 7]>    <html lang=\"en-us\" class=\"a-no-js a-lt-ie9 a-lt-ie8\"> <![endif]-->\\n<!--[if IE 8]>    <html lang=\"en-us\" class=\"a-no-js a-lt-ie9\"> <![endif]-->\\n<!--[if gt IE 8]><!-->\\n<html class=\"a-no-js\" lang=\"en-us\"><!--<![endif]--><head>\\n<meta http-equiv=\"content-type\" content=\"text/html; charset=UTF-8\">\\n<meta charset=\"utf-8\">\\n<meta http-equiv=\"X-UA-Compatible\" content=\"IE=edge,chrome=1\">\\n<title dir=\"ltr\">Robot Check</title>\\n<meta name=\"viewport\" content=\"width=device-width\">\\n<link rel=\"stylesheet\" href=\"https://images-na.ssl-images-amazon.com/images/G/01/AUIClients/AmazonUI-3c913031596ca78a3768f4e934b1cc02ce238101.secure.min._V1_.css\">\\n<script>\\n\\nif (true === true) {\\n    var ue_t0 = (+ new Date()),\\n        ue_csm = window,\\n        ue = { t0: ue_t0, d: function() { return (+new Date() - ue_t0); } },\\n        ue_furl = \"fls-eu.amazon.in\",\\n        ue_mid = \"A21TJRUUN4KGV\",\\n        ue_sid = (document.cookie.match(/session-id=([0-9-]+)/) || [])[1],\\n        ue_sn = \"opfcaptcha.amazon.in\",\\n        ue_id = \\'KTPYC0MWNH8ZDRQC22GH\\';\\n}\\n</script>\\n</head>\\n<body>\\n\\n<!--\\n        To discuss automated access to Amazon data please contact api-services-support@amazon.com.\\n        For information about migrating to our APIs refer to our Marketplace APIs at https://developer.amazonservices.in/ref=rm_c_sv, or our Product Advertising API at https://affiliate-program.amazon.in/gp/advertising/api/detail/main.html/ref=rm_c_ac for advertising use cases.\\n-->\\n\\n<!--\\nCorreios.DoNotSend\\n-->\\n\\n<div class=\"a-container a-padding-double-large\" style=\"min-width:350px;padding:44px 0 !important\">\\n\\n    <div class=\"a-row a-spacing-double-large\" style=\"width: 350px; margin: 0 auto\">\\n\\n        <div class=\"a-row a-spacing-medium a-text-center\"><i class=\"a-icon a-logo\"></i></div>\\n\\n        <div class=\"a-box a-alert a-alert-info a-spacing-base\">\\n            <div class=\"a-box-inner\">\\n                <i class=\"a-icon a-icon-alert\"></i>\\n                <h4>Enter the characters you see below</h4>\\n                <p class=\"a-last\">Sorry, we just need to make sure you\\'re not a robot. For best results, please make sure your browser is accepting cookies.</p>\\n                </div>\\n            </div>\\n\\n            <div class=\"a-section\">\\n\\n                <div class=\"a-box a-color-offset-background\">\\n                    <div class=\"a-box-inner a-padding-extra-large\">\\n\\n                        <form method=\"get\" action=\"/errors/validateCaptcha\" name=\"\">\\n                            <input type=hidden name=\"amzn\" value=\"9jXVAzzym1/Pwz34vn0Lkw==\" /><input type=hidden name=\"amzn-r\" value=\"&#047;s?k&#061;iphone\" />\\n                            <div class=\"a-row a-spacing-large\">\\n                                <div class=\"a-box\">\\n                                    <div class=\"a-box-inner\">\\n                                        <h4>Type the characters you see in this image:</h4>\\n                                        <!-- For automated access to price change or offer listing change events,\\n                                             please refer to the MWS Subscription API:\\n                                             https://developer.amazonservices.in/gp/mws/api.html/276-5247872-0590350?ie=UTF8&section=subscriptions&group=subscriptions&version=latest\\n                                        -->\\n                                        <div class=\"a-row a-text-center\">\\n                                            <img src=\"https://images-na.ssl-images-amazon.com/captcha/xjgkhgck/Captcha_wytoydndvu.jpg\">\\n                                        </div>\\n                                        <div class=\"a-row a-spacing-base\">\\n                                            <div class=\"a-row\">\\n                                                <div class=\"a-column a-span6\">\\n                                                </div>\\n                                                <div class=\"a-column a-span6 a-span-last a-text-right\">\\n                                                    <a onclick=\"window.location.reload()\">Try different image</a>\\n                                                </div>\\n                                            </div>\\n                                            <input autocomplete=\"off\" spellcheck=\"false\" placeholder=\"Type characters\" id=\"captchacharacters\" name=\"field-keywords\" class=\"a-span12\" autocapitalize=\"off\" autocorrect=\"off\" type=\"text\">\\n                                        </div>\\n                                    </div>\\n                                </div>\\n                            </div>\\n\\n                            <div class=\"a-section a-spacing-extra-large\">\\n\\n                                <div class=\"a-row\">\\n                                    <span class=\"a-button a-button-primary a-span12\">\\n                                        <span class=\"a-button-inner\">\\n                                            <button type=\"submit\" class=\"a-button-text\">Continue shopping</button>\\n                                        </span>\\n                                    </span>\\n                                </div>\\n\\n                            </div>\\n                        </form>\\n\\n                    </div>\\n                </div>\\n\\n            </div>\\n\\n        </div>\\n\\n        <div class=\"a-divider a-divider-section\"><div class=\"a-divider-inner\"></div></div>\\n\\n        <div class=\"a-text-center a-spacing-small a-size-mini\">\\n            <a href=\"https://www.amazon.in/gp/help/customer/display.html/ref=footer_cou?ie=UTF8&nodeId=200545940\">Conditions of Use &amp; Sale</a>\\n            <span class=\"a-letter-space\"></span>\\n            <span class=\"a-letter-space\"></span>\\n            <span class=\"a-letter-space\"></span>\\n            <span class=\"a-letter-space\"></span>\\n            <a href=\"https://www.amazon.in/gp/help/customer/display.html/ref=footer_privacy?ie=UTF8&nodeId=200534380\">Privacy Notice</a>\\n        </div>\\n\\n        <div class=\"a-text-center a-size-mini a-color-secondary\">\\n          &copy; 1996-2015, Amazon.com, Inc. or its affiliates\\n          <script>\\n           if (true === true) {\\n             document.write(\\'<img src=\"https://fls-eu.amaz\\'+\\'on.in/\\'+\\'1/oc-csi/1/OP/requestId=KTPYC0MWNH8ZDRQC22GH&js=1\" />\\');\\n           };\\n          </script>\\n          <noscript>\\n            <img src=\"https://fls-eu.amazon.in/1/oc-csi/1/OP/requestId=KTPYC0MWNH8ZDRQC22GH&js=0\" />\\n          </noscript>\\n        </div>\\n    </div>\\n    <script>\\n    if (true === true) {\\n        var elem = document.createElement(\"script\");\\n        elem.src = \"https://images-eu.ssl-images-amazon.com/images/G/01/csminstrumentation/csm-captcha-instrumentation.min._V\" + (+ new Date()) + \"_.js\";\\n        document.getElementsByTagName(\\'head\\')[0].appendChild(elem);\\n    }\\n    </script>\\n</body></html>\\n'"
      ]
     },
     "execution_count": 82,
     "metadata": {},
     "output_type": "execute_result"
    }
   ],
   "source": [
    "plain_text"
   ]
  },
  {
   "cell_type": "code",
   "execution_count": null,
   "metadata": {},
   "outputs": [],
   "source": []
  },
  {
   "cell_type": "code",
   "execution_count": null,
   "metadata": {},
   "outputs": [],
   "source": []
  },
  {
   "cell_type": "code",
   "execution_count": null,
   "metadata": {},
   "outputs": [],
   "source": [
    "\n"
   ]
  },
  {
   "cell_type": "code",
   "execution_count": 60,
   "metadata": {},
   "outputs": [
    {
     "data": {
      "text/plain": [
       "[]"
      ]
     },
     "execution_count": 60,
     "metadata": {},
     "output_type": "execute_result"
    }
   ],
   "source": []
  },
  {
   "cell_type": "code",
   "execution_count": 83,
   "metadata": {},
   "outputs": [
    {
     "data": {
      "text/plain": [
       "<div class=\"a-container a-padding-double-large\" style=\"min-width:350px;padding:44px 0 !important\">\n",
       "<div class=\"a-row a-spacing-double-large\" style=\"width: 350px; margin: 0 auto\">\n",
       "<div class=\"a-row a-spacing-medium a-text-center\"><i class=\"a-icon a-logo\"></i></div>\n",
       "<div class=\"a-box a-alert a-alert-info a-spacing-base\">\n",
       "<div class=\"a-box-inner\">\n",
       "<i class=\"a-icon a-icon-alert\"></i>\n",
       "<h4>Enter the characters you see below</h4>\n",
       "<p class=\"a-last\">Sorry, we just need to make sure you're not a robot. For best results, please make sure your browser is accepting cookies.</p>\n",
       "</div>\n",
       "</div>\n",
       "<div class=\"a-section\">\n",
       "<div class=\"a-box a-color-offset-background\">\n",
       "<div class=\"a-box-inner a-padding-extra-large\">\n",
       "<form action=\"/errors/validateCaptcha\" method=\"get\" name=\"\">\n",
       "<input name=\"amzn\" type=\"hidden\" value=\"9jXVAzzym1/Pwz34vn0Lkw==\"/><input name=\"amzn-r\" type=\"hidden\" value=\"/s?k=iphone\"/>\n",
       "<div class=\"a-row a-spacing-large\">\n",
       "<div class=\"a-box\">\n",
       "<div class=\"a-box-inner\">\n",
       "<h4>Type the characters you see in this image:</h4>\n",
       "<!-- For automated access to price change or offer listing change events,\n",
       "                                             please refer to the MWS Subscription API:\n",
       "                                             https://developer.amazonservices.in/gp/mws/api.html/276-5247872-0590350?ie=UTF8&section=subscriptions&group=subscriptions&version=latest\n",
       "                                        -->\n",
       "<div class=\"a-row a-text-center\">\n",
       "<img src=\"https://images-na.ssl-images-amazon.com/captcha/xjgkhgck/Captcha_wytoydndvu.jpg\"/>\n",
       "</div>\n",
       "<div class=\"a-row a-spacing-base\">\n",
       "<div class=\"a-row\">\n",
       "<div class=\"a-column a-span6\">\n",
       "</div>\n",
       "<div class=\"a-column a-span6 a-span-last a-text-right\">\n",
       "<a onclick=\"window.location.reload()\">Try different image</a>\n",
       "</div>\n",
       "</div>\n",
       "<input autocapitalize=\"off\" autocomplete=\"off\" autocorrect=\"off\" class=\"a-span12\" id=\"captchacharacters\" name=\"field-keywords\" placeholder=\"Type characters\" spellcheck=\"false\" type=\"text\"/>\n",
       "</div>\n",
       "</div>\n",
       "</div>\n",
       "</div>\n",
       "<div class=\"a-section a-spacing-extra-large\">\n",
       "<div class=\"a-row\">\n",
       "<span class=\"a-button a-button-primary a-span12\">\n",
       "<span class=\"a-button-inner\">\n",
       "<button class=\"a-button-text\" type=\"submit\">Continue shopping</button>\n",
       "</span>\n",
       "</span>\n",
       "</div>\n",
       "</div>\n",
       "</form>\n",
       "</div>\n",
       "</div>\n",
       "</div>\n",
       "</div>\n",
       "<div class=\"a-divider a-divider-section\"><div class=\"a-divider-inner\"></div></div>\n",
       "<div class=\"a-text-center a-spacing-small a-size-mini\">\n",
       "<a href=\"https://www.amazon.in/gp/help/customer/display.html/ref=footer_cou?ie=UTF8&amp;nodeId=200545940\">Conditions of Use &amp; Sale</a>\n",
       "<span class=\"a-letter-space\"></span>\n",
       "<span class=\"a-letter-space\"></span>\n",
       "<span class=\"a-letter-space\"></span>\n",
       "<span class=\"a-letter-space\"></span>\n",
       "<a href=\"https://www.amazon.in/gp/help/customer/display.html/ref=footer_privacy?ie=UTF8&amp;nodeId=200534380\">Privacy Notice</a>\n",
       "</div>\n",
       "<div class=\"a-text-center a-size-mini a-color-secondary\">\n",
       "          © 1996-2015, Amazon.com, Inc. or its affiliates\n",
       "          <script>\n",
       "           if (true === true) {\n",
       "             document.write('<img src=\"https://fls-eu.amaz'+'on.in/'+'1/oc-csi/1/OP/requestId=KTPYC0MWNH8ZDRQC22GH&js=1\" />');\n",
       "           };\n",
       "          </script>\n",
       "<noscript>\n",
       "<img src=\"https://fls-eu.amazon.in/1/oc-csi/1/OP/requestId=KTPYC0MWNH8ZDRQC22GH&amp;js=0\">\n",
       "</img></noscript>\n",
       "</div>\n",
       "</div>"
      ]
     },
     "execution_count": 83,
     "metadata": {},
     "output_type": "execute_result"
    }
   ],
   "source": [
    "from bs4 import BeautifulSoup\n",
    "soup = BeautifulSoup(plain_text, 'html.parser')\n",
    "soup.div"
   ]
  },
  {
   "cell_type": "code",
   "execution_count": 76,
   "metadata": {},
   "outputs": [
    {
     "data": {
      "text/plain": [
       "<span class=\"a-button a-button-primary a-span12\">\n",
       "<span class=\"a-button-inner\">\n",
       "<button class=\"a-button-text\" type=\"submit\">Continue shopping</button>\n",
       "</span>\n",
       "</span>"
      ]
     },
     "execution_count": 76,
     "metadata": {},
     "output_type": "execute_result"
    }
   ],
   "source": [
    "span"
   ]
  },
  {
   "cell_type": "code",
   "execution_count": 84,
   "metadata": {},
   "outputs": [
    {
     "name": "stdout",
     "output_type": "stream",
     "text": [
      "Downloading and processing page http://www.amazon.com/dp/B01ETPUQ6E\n"
     ]
    },
    {
     "name": "stderr",
     "output_type": "stream",
     "text": [
      "/home/tanvirrahman/anaconda3/lib/python3.7/site-packages/urllib3/connectionpool.py:847: InsecureRequestWarning: Unverified HTTPS request is being made. Adding certificate verification is strongly advised. See: https://urllib3.readthedocs.io/en/latest/advanced-usage.html#ssl-warnings\n",
      "  InsecureRequestWarning)\n"
     ]
    },
    {
     "name": "stdout",
     "output_type": "stream",
     "text": [
      "Downloading and processing page http://www.amazon.com/dp/B017HW9DEW\n"
     ]
    },
    {
     "name": "stderr",
     "output_type": "stream",
     "text": [
      "/home/tanvirrahman/anaconda3/lib/python3.7/site-packages/urllib3/connectionpool.py:847: InsecureRequestWarning: Unverified HTTPS request is being made. Adding certificate verification is strongly advised. See: https://urllib3.readthedocs.io/en/latest/advanced-usage.html#ssl-warnings\n",
      "  InsecureRequestWarning)\n"
     ]
    },
    {
     "name": "stdout",
     "output_type": "stream",
     "text": [
      "Downloading and processing page http://www.amazon.com/dp/B00U8KSIOM\n"
     ]
    },
    {
     "name": "stderr",
     "output_type": "stream",
     "text": [
      "/home/tanvirrahman/anaconda3/lib/python3.7/site-packages/urllib3/connectionpool.py:847: InsecureRequestWarning: Unverified HTTPS request is being made. Adding certificate verification is strongly advised. See: https://urllib3.readthedocs.io/en/latest/advanced-usage.html#ssl-warnings\n",
      "  InsecureRequestWarning)\n"
     ]
    }
   ],
   "source": [
    "#!/usr/bin/env python\n",
    "# -*- coding: utf-8 -*-\n",
    "# Written as part of https://www.scrapehero.com/how-to-scrape-amazon-product-reviews-using-python/\n",
    "from lxml import html\n",
    "from json import dump,loads\n",
    "from requests import get\n",
    "import json\n",
    "from re import sub\n",
    "from dateutil import parser as dateparser\n",
    "from time import sleep\n",
    "\n",
    "def ParseReviews(asin):\n",
    "    # This script has only been tested with Amazon.com\n",
    "    amazon_url  = 'http://www.amazon.com/dp/'+asin\n",
    "    # Add some recent user agent to prevent amazon from blocking the request \n",
    "    # Find some chrome user agent strings  here https://udger.com/resources/ua-list/browser-detail?browser=Chrome\n",
    "    headers = {'User-Agent': 'Mozilla/5.0 (X11; Linux x86_64) AppleWebKit/537.36 (KHTML, like Gecko) Chrome/62.0.3202.94 Safari/537.36'}\n",
    "    for i in range(5):\n",
    "        response = get(amazon_url, headers = headers, verify=False, timeout=30)\n",
    "        if response.status_code == 404:\n",
    "            return {\"url\": amazon_url, \"error\": \"page not found\"}\n",
    "        if response.status_code != 200:\n",
    "            continue\n",
    "        \n",
    "        # Removing the null bytes from the response.\n",
    "        cleaned_response = response.text.replace('\\x00', '')\n",
    "        \n",
    "        parser = html.fromstring(cleaned_response)\n",
    "        XPATH_AGGREGATE = '//span[@id=\"acrCustomerReviewText\"]'\n",
    "        XPATH_REVIEW_SECTION_1 = '//div[contains(@id,\"reviews-summary\")]'\n",
    "        XPATH_REVIEW_SECTION_2 = '//div[@data-hook=\"review\"]'\n",
    "        XPATH_AGGREGATE_RATING = '//table[@id=\"histogramTable\"]//tr'\n",
    "        XPATH_PRODUCT_NAME = '//h1//span[@id=\"productTitle\"]//text()'\n",
    "        XPATH_PRODUCT_PRICE = '//span[@id=\"priceblock_ourprice\"]/text()'\n",
    "\n",
    "        raw_product_price = parser.xpath(XPATH_PRODUCT_PRICE)\n",
    "        raw_product_name = parser.xpath(XPATH_PRODUCT_NAME)\n",
    "        total_ratings  = parser.xpath(XPATH_AGGREGATE_RATING)\n",
    "        reviews = parser.xpath(XPATH_REVIEW_SECTION_1)\n",
    "\n",
    "        product_price = ''.join(raw_product_price).replace(',', '')\n",
    "        product_name = ''.join(raw_product_name).strip()\n",
    "\n",
    "        if not reviews:\n",
    "            reviews = parser.xpath(XPATH_REVIEW_SECTION_2)\n",
    "        ratings_dict = {}\n",
    "        reviews_list = []\n",
    "\n",
    "        # Grabing the rating  section in product page\n",
    "        for ratings in total_ratings:\n",
    "            extracted_rating = ratings.xpath('./td//a//text()')\n",
    "            if extracted_rating:\n",
    "                rating_key = extracted_rating[0] \n",
    "                raw_raing_value = extracted_rating[1]\n",
    "                rating_value = raw_raing_value\n",
    "                if rating_key:\n",
    "                    ratings_dict.update({rating_key: rating_value})\n",
    "        \n",
    "        # Parsing individual reviews\n",
    "        for review in reviews:\n",
    "            XPATH_RATING  = './/i[@data-hook=\"review-star-rating\"]//text()'\n",
    "            XPATH_REVIEW_HEADER = './/a[@data-hook=\"review-title\"]//text()'\n",
    "            XPATH_REVIEW_POSTED_DATE = './/span[@data-hook=\"review-date\"]//text()'\n",
    "            XPATH_REVIEW_TEXT_1 = './/div[@data-hook=\"review-collapsed\"]//text()'\n",
    "            XPATH_REVIEW_TEXT_2 = './/div//span[@data-action=\"columnbalancing-showfullreview\"]/@data-columnbalancing-showfullreview'\n",
    "            XPATH_REVIEW_COMMENTS = './/span[@data-hook=\"review-comment\"]//text()'\n",
    "            XPATH_AUTHOR = './/span[contains(@class,\"profile-name\")]//text()'\n",
    "            XPATH_REVIEW_TEXT_3 = './/div[contains(@id,\"dpReviews\")]/div/text()'\n",
    "            \n",
    "            raw_review_author = review.xpath(XPATH_AUTHOR)\n",
    "            raw_review_rating = review.xpath(XPATH_RATING)\n",
    "            raw_review_header = review.xpath(XPATH_REVIEW_HEADER)\n",
    "            raw_review_posted_date = review.xpath(XPATH_REVIEW_POSTED_DATE)\n",
    "            raw_review_text1 = review.xpath(XPATH_REVIEW_TEXT_1)\n",
    "            raw_review_text2 = review.xpath(XPATH_REVIEW_TEXT_2)\n",
    "            raw_review_text3 = review.xpath(XPATH_REVIEW_TEXT_3)\n",
    "\n",
    "            # Cleaning data\n",
    "            author = ' '.join(' '.join(raw_review_author).split())\n",
    "            review_rating = ''.join(raw_review_rating).replace('out of 5 stars', '')\n",
    "            review_header = ' '.join(' '.join(raw_review_header).split())\n",
    "\n",
    "            try:\n",
    "                review_posted_date = dateparser.parse(''.join(raw_review_posted_date)).strftime('%d %b %Y')\n",
    "            except:\n",
    "                review_posted_date = None\n",
    "            review_text = ' '.join(' '.join(raw_review_text1).split())\n",
    "\n",
    "            # Grabbing hidden comments if present\n",
    "            if raw_review_text2:\n",
    "                json_loaded_review_data = loads(raw_review_text2[0])\n",
    "                json_loaded_review_data_text = json_loaded_review_data['rest']\n",
    "                cleaned_json_loaded_review_data_text = re.sub('<.*?>', '', json_loaded_review_data_text)\n",
    "                full_review_text = review_text+cleaned_json_loaded_review_data_text\n",
    "            else:\n",
    "                full_review_text = review_text\n",
    "            if not raw_review_text1:\n",
    "                full_review_text = ' '.join(' '.join(raw_review_text3).split())\n",
    "\n",
    "            raw_review_comments = review.xpath(XPATH_REVIEW_COMMENTS)\n",
    "            review_comments = ''.join(raw_review_comments)\n",
    "            review_comments = sub('[A-Za-z]', '', review_comments).strip()\n",
    "            review_dict = {\n",
    "                                'review_comment_count': review_comments,\n",
    "                                'review_text': full_review_text,\n",
    "                                'review_posted_date': review_posted_date,\n",
    "                                'review_header': review_header,\n",
    "                                'review_rating': review_rating,\n",
    "                                'review_author': author\n",
    "\n",
    "                            }\n",
    "            reviews_list.append(review_dict)\n",
    "\n",
    "        data = {\n",
    "                    'ratings': ratings_dict,\n",
    "                    'reviews': reviews_list,\n",
    "                    'url': amazon_url,\n",
    "                    'name': product_name,\n",
    "                    'price': product_price\n",
    "                \n",
    "                }\n",
    "        return data\n",
    "\n",
    "    return {\"error\": \"failed to process the page\", \"url\": amazon_url}\n",
    "            \n",
    "\n",
    "def ReadAsin():\n",
    "    # Add your own ASINs here\n",
    "    AsinList = ['B01ETPUQ6E', 'B017HW9DEW', 'B00U8KSIOM']\n",
    "    extracted_data = []\n",
    "    \n",
    "    for asin in AsinList:\n",
    "        print(\"Downloading and processing page http://www.amazon.com/dp/\" + asin)\n",
    "        extracted_data.append(ParseReviews(asin))\n",
    "        sleep(5)\n",
    "    f = open('data.json', 'w')\n",
    "    dump(extracted_data, f, indent=4)\n",
    "    f.close()\n",
    "\n",
    "if __name__ == '__main__':\n",
    "    ReadAsin()"
   ]
  },
  {
   "cell_type": "code",
   "execution_count": 85,
   "metadata": {},
   "outputs": [
    {
     "name": "stdout",
     "output_type": "stream",
     "text": [
      "crawler.py  data.json  Untitled.ipynb\r\n"
     ]
    }
   ],
   "source": [
    "!ls"
   ]
  },
  {
   "cell_type": "code",
   "execution_count": 86,
   "metadata": {},
   "outputs": [
    {
     "name": "stdout",
     "output_type": "stream",
     "text": [
      "[\r\n",
      "    {\r\n",
      "        \"ratings\": {},\r\n",
      "        \"reviews\": [],\r\n",
      "        \"url\": \"http://www.amazon.com/dp/B01ETPUQ6E\",\r\n",
      "        \"name\": \"\",\r\n",
      "        \"price\": \"\"\r\n",
      "    },\r\n",
      "    {\r\n",
      "        \"ratings\": {},\r\n",
      "        \"reviews\": [],\r\n",
      "        \"url\": \"http://www.amazon.com/dp/B017HW9DEW\",\r\n",
      "        \"name\": \"\",\r\n",
      "        \"price\": \"\"\r\n",
      "    },\r\n",
      "    {\r\n",
      "        \"ratings\": {},\r\n",
      "        \"reviews\": [],\r\n",
      "        \"url\": \"http://www.amazon.com/dp/B00U8KSIOM\",\r\n",
      "        \"name\": \"\",\r\n",
      "        \"price\": \"\"\r\n",
      "    }\r\n",
      "]"
     ]
    }
   ],
   "source": [
    "!cat data.json"
   ]
  },
  {
   "cell_type": "code",
   "execution_count": null,
   "metadata": {},
   "outputs": [],
   "source": []
  },
  {
   "cell_type": "code",
   "execution_count": null,
   "metadata": {},
   "outputs": [],
   "source": []
  }
 ],
 "metadata": {
  "kernelspec": {
   "display_name": "Python 3",
   "language": "python",
   "name": "python3"
  },
  "language_info": {
   "codemirror_mode": {
    "name": "ipython",
    "version": 3
   },
   "file_extension": ".py",
   "mimetype": "text/x-python",
   "name": "python",
   "nbconvert_exporter": "python",
   "pygments_lexer": "ipython3",
   "version": "3.7.3"
  }
 },
 "nbformat": 4,
 "nbformat_minor": 2
}
